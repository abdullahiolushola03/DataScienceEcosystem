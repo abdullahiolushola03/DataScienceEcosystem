{
  "metadata": {
    "kernelspec": {
      "name": "python",
      "display_name": "Python (Pyodide)",
      "language": "python"
    },
    "language_info": {
      "codemirror_mode": {
        "name": "python",
        "version": 3
      },
      "file_extension": ".py",
      "mimetype": "text/x-python",
      "name": "python",
      "nbconvert_exporter": "python",
      "pygments_lexer": "ipython3",
      "version": "3.8"
    }
  },
  "nbformat_minor": 4,
  "nbformat": 4,
  "cells": [
    {
      "cell_type": "markdown",
      "source": "# **Data Science Tools and Ecosystem:**",
      "metadata": {}
    },
    {
      "cell_type": "markdown",
      "source": "#### In this notebook, Data Science Tools and Ecosystem are summarized.",
      "metadata": {}
    },
    {
      "cell_type": "markdown",
      "source": "#### **Objectives:**\n* Python\n* R\n* SQL\n* Java\n* Scala\n",
      "metadata": {}
    },
    {
      "cell_type": "markdown",
      "source": "#### Some of the popular languages that Data Scientists use are:\n1. **Python:** Widely used for its simplicity and extensive libraries such as NumPy, pandas, Matplotlib, scikit-learn, and TensorFlow.\n2. **R:** Known for statistical analysis and visualization with packages like ggplot2, dplyr, and caret.\n3. **SQL:** Essential for querying and managing databases.\n4. **Java:** Sometimes used for large-scale data processing and building production-level systems.\n5. **Scala:** Often used with Apache Spark for big data processing.\n6. **Julia:** Gaining popularity for high-performance numerical computing.\n7. **SAS:** Used in certain industries for statistical analysis.\n8. **MATLAB:** Used for numerical computing and algorithm development, particularly in academia and engineering.",
      "metadata": {}
    },
    {
      "cell_type": "markdown",
      "source": "#### Some of the commonly used libraries used by Data Scientists include:\n#### For Python:\n1. **NumPy:** Fundamental package for numerical computations.\n2. **Pandas:** Data manipulation and analysis.\n3. **Matplotlib:** Plotting and visualization.\n4. **Seaborn:** Statistical data visualization.\n5. **Scikit-Learn:** Machine learning algorithms and tools.\n6. **Tensor-Flow:** Deep learning framework.\n7. **Keras:** High-level neural networks API.\n8. **PyTorch:** Deep learning framework.\n9. **SciPy:** Scientific and technical computing.\n10. **NLTK:** Natural language processing.\n#### R:\n1. **Ggplot2:** Data visualization.\n2. **Dplyr:** Data manipulation.\n3. **Tidyr:** Data tidying.\n4. **Caret:** Machine learning.\n5. **Shiny:** Web applications for data.\n6. **Data Table:** High-performance data manipulation.\n7. **Random Forest:** Random forest implementation.\n8. **Xgboost:** Extreme Gradient Boosting.\n#### SQL:\n1. **SQLite:** Lightweight database engine.\n2. **SQLAlchemy:** SQL toolkit and Object-Relational Mapping (ORM) for Python.\n3. **Panda-sql:** Write SQL queries for pandas DataFrames.",
      "metadata": {}
    },
    {
      "cell_type": "markdown",
      "source": "| Data Science Tools|\n|-------------------|\n|Jupyter Notebook |\n|RStudio |\n|Apache Zeppelin|",
      "metadata": {}
    },
    {
      "cell_type": "markdown",
      "source": "### Below are a few examples of evaluating arithmetic expressions in Python",
      "metadata": {}
    },
    {
      "cell_type": "code",
      "source": "# This a simple arithmetic expression to mutiply then add integers\n(3*4)+5",
      "metadata": {
        "trusted": true
      },
      "outputs": [
        {
          "execution_count": 3,
          "output_type": "execute_result",
          "data": {
            "text/plain": "17"
          },
          "metadata": {}
        }
      ],
      "execution_count": 3
    },
    {
      "cell_type": "code",
      "source": "# This will convert 200 minutes to hours by diving by 60\n200/60",
      "metadata": {
        "trusted": true
      },
      "outputs": [
        {
          "execution_count": 4,
          "output_type": "execute_result",
          "data": {
            "text/plain": "3.3333333333333335"
          },
          "metadata": {}
        }
      ],
      "execution_count": 4
    },
    {
      "cell_type": "markdown",
      "source": "### Author\nAbdullahi Abubakar Olushola",
      "metadata": {}
    }
  ]
}